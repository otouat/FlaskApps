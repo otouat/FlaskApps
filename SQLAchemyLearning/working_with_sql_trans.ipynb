{
 "cells": [
  {
   "cell_type": "code",
   "execution_count": 1,
   "metadata": {},
   "outputs": [],
   "source": [
    "from sqlalchemy import text\n",
    "from sqlalchemy import create_engine\n",
    "engine = create_engine(\"sqlite+pysqlite:///:memory:\", echo=True, future=True)"
   ]
  },
  {
   "cell_type": "markdown",
   "metadata": {},
   "source": [
    "Hello World (SQL text command)"
   ]
  },
  {
   "cell_type": "code",
   "execution_count": 2,
   "metadata": {},
   "outputs": [
    {
     "name": "stdout",
     "output_type": "stream",
     "text": [
      "2023-08-06 13:38:52,171 INFO sqlalchemy.engine.Engine BEGIN (implicit)\n",
      "2023-08-06 13:38:52,172 INFO sqlalchemy.engine.Engine select 'hello world'\n",
      "2023-08-06 13:38:52,174 INFO sqlalchemy.engine.Engine [generated in 0.00326s] ()\n",
      "[('hello world',)]\n",
      "2023-08-06 13:38:52,176 INFO sqlalchemy.engine.Engine ROLLBACK\n"
     ]
    }
   ],
   "source": [
    "with engine.connect() as conn:\n",
    "    result = conn.execute(text(\"select 'hello world'\"))\n",
    "    print(result.all())"
   ]
  },
  {
   "cell_type": "code",
   "execution_count": 3,
   "metadata": {},
   "outputs": [
    {
     "name": "stdout",
     "output_type": "stream",
     "text": [
      "2023-08-06 13:38:52,188 INFO sqlalchemy.engine.Engine BEGIN (implicit)\n",
      "2023-08-06 13:38:52,189 INFO sqlalchemy.engine.Engine CREATE TABLE some_table (x int, y int)\n",
      "2023-08-06 13:38:52,191 INFO sqlalchemy.engine.Engine [generated in 0.00275s] ()\n",
      "2023-08-06 13:38:52,193 INFO sqlalchemy.engine.Engine INSERT INTO some_table (x, y) VALUES (?, ?)\n",
      "2023-08-06 13:38:52,195 INFO sqlalchemy.engine.Engine [generated in 0.00199s] [(1, 1), (2, 4)]\n",
      "2023-08-06 13:38:52,196 INFO sqlalchemy.engine.Engine COMMIT\n"
     ]
    }
   ],
   "source": [
    "with engine.connect() as conn:\n",
    "    conn.execute(text(\"CREATE TABLE some_table (x int, y int)\"))\n",
    "    conn.execute(\n",
    "        text(\"INSERT INTO some_table (x, y) VALUES (:x, :y)\"),\n",
    "        [{\"x\": 1, \"y\": 1}, {\"x\": 2, \"y\": 4}],\n",
    "    )\n",
    "    conn.commit()"
   ]
  },
  {
   "cell_type": "code",
   "execution_count": 4,
   "metadata": {},
   "outputs": [
    {
     "name": "stdout",
     "output_type": "stream",
     "text": [
      "2023-08-06 13:38:52,213 INFO sqlalchemy.engine.Engine BEGIN (implicit)\n",
      "2023-08-06 13:38:52,215 INFO sqlalchemy.engine.Engine select x,y from some_table\n",
      "2023-08-06 13:38:52,216 INFO sqlalchemy.engine.Engine [generated in 0.00328s] ()\n",
      "x: 1  y: 1\n",
      "x: 2  y: 4\n",
      "2023-08-06 13:38:52,218 INFO sqlalchemy.engine.Engine ROLLBACK\n"
     ]
    }
   ],
   "source": [
    "with engine.connect() as conn:\n",
    "    result = conn.execute(text(\"select x,y from some_table\"))\n",
    "    for row in result:\n",
    "        print(f\"x: {row.x}  y: {row.y}\")"
   ]
  },
  {
   "cell_type": "code",
   "execution_count": 5,
   "metadata": {},
   "outputs": [
    {
     "name": "stdout",
     "output_type": "stream",
     "text": [
      "2023-08-06 13:38:52,232 INFO sqlalchemy.engine.Engine BEGIN (implicit)\n",
      "2023-08-06 13:38:52,234 INFO sqlalchemy.engine.Engine INSERT INTO some_table (x, y) VALUES (?, ?)\n",
      "2023-08-06 13:38:52,235 INFO sqlalchemy.engine.Engine [cached since 0.04175s ago] [(6, 8), (9, 10)]\n",
      "2023-08-06 13:38:52,236 INFO sqlalchemy.engine.Engine COMMIT\n"
     ]
    }
   ],
   "source": [
    "with engine.begin() as conn:\n",
    "    conn.execute(\n",
    "        text(\"INSERT INTO some_table (x, y) VALUES (:x, :y)\"),\n",
    "        [{\"x\": 6, \"y\": 8}, {\"x\": 9, \"y\": 10}],\n",
    "    )"
   ]
  },
  {
   "cell_type": "code",
   "execution_count": 6,
   "metadata": {},
   "outputs": [
    {
     "name": "stdout",
     "output_type": "stream",
     "text": [
      "2023-08-06 13:39:09,150 INFO sqlalchemy.engine.Engine BEGIN (implicit)\n",
      "2023-08-06 13:39:09,151 INFO sqlalchemy.engine.Engine select x,y from some_table\n",
      "2023-08-06 13:39:09,152 INFO sqlalchemy.engine.Engine [cached since 16.94s ago] ()\n",
      "x: 1  y: 1\n",
      "x: 2  y: 4\n",
      "x: 6  y: 8\n",
      "x: 9  y: 10\n",
      "2023-08-06 13:39:09,153 INFO sqlalchemy.engine.Engine ROLLBACK\n"
     ]
    }
   ],
   "source": [
    "with engine.connect() as conn:\n",
    "    result = conn.execute(text(\"select x,y from some_table\"))\n",
    "    for row in result:\n",
    "        print(f\"x: {row.x}  y: {row.y}\")"
   ]
  },
  {
   "cell_type": "code",
   "execution_count": 15,
   "metadata": {},
   "outputs": [
    {
     "name": "stdout",
     "output_type": "stream",
     "text": [
      "2023-08-06 13:41:20,328 INFO sqlalchemy.engine.Engine BEGIN (implicit)\n",
      "2023-08-06 13:41:20,330 INFO sqlalchemy.engine.Engine SELECT x, y FROM some_table WHERE y > ? AND x > ?\n",
      "2023-08-06 13:41:20,331 INFO sqlalchemy.engine.Engine [cached since 29.34s ago] (4, 6)\n",
      "x: 9  y: 10\n",
      "x: 11  y: 12\n",
      "x: 13  y: 14\n",
      "2023-08-06 13:41:20,334 INFO sqlalchemy.engine.Engine ROLLBACK\n"
     ]
    }
   ],
   "source": [
    "with engine.connect() as conn:\n",
    "    result = conn.execute(text(\"SELECT x, y FROM some_table WHERE y > :y AND x > :x\"), {\"y\": 4, \"x\":6})\n",
    "    for row in result:\n",
    "        print(f\"x: {row.x}  y: {row.y}\")"
   ]
  },
  {
   "cell_type": "code",
   "execution_count": 14,
   "metadata": {},
   "outputs": [
    {
     "name": "stdout",
     "output_type": "stream",
     "text": [
      "2023-08-06 13:41:15,695 INFO sqlalchemy.engine.Engine BEGIN (implicit)\n",
      "2023-08-06 13:41:15,697 INFO sqlalchemy.engine.Engine INSERT INTO some_table (x, y) VALUES (?, ?)\n",
      "2023-08-06 13:41:15,698 INFO sqlalchemy.engine.Engine [cached since 143.5s ago] [(11, 12), (13, 14)]\n",
      "2023-08-06 13:41:15,701 INFO sqlalchemy.engine.Engine COMMIT\n"
     ]
    }
   ],
   "source": [
    "with engine.connect() as conn:\n",
    "    conn.execute(\n",
    "        text(\"INSERT INTO some_table (x, y) VALUES (:x, :y)\"),\n",
    "        [{\"x\": 11, \"y\": 12}, {\"x\": 13, \"y\": 14}],\n",
    "    )\n",
    "    conn.commit()"
   ]
  },
  {
   "cell_type": "code",
   "execution_count": 19,
   "metadata": {},
   "outputs": [
    {
     "name": "stdout",
     "output_type": "stream",
     "text": [
      "2023-08-06 13:43:55,052 INFO sqlalchemy.engine.Engine BEGIN (implicit)\n",
      "2023-08-06 13:43:55,055 INFO sqlalchemy.engine.Engine SELECT x, y FROM some_table WHERE y > ? ORDER BY x, y\n",
      "2023-08-06 13:43:55,057 INFO sqlalchemy.engine.Engine [cached since 46.32s ago] (6,)\n",
      "x: 6  y: 8\n",
      "x: 9  y: 11\n",
      "x: 11  y: 12\n",
      "x: 13  y: 15\n",
      "2023-08-06 13:43:55,061 INFO sqlalchemy.engine.Engine ROLLBACK\n"
     ]
    }
   ],
   "source": [
    "from sqlalchemy.orm import Session\n",
    "\n",
    "stmt = text(\"SELECT x, y FROM some_table WHERE y > :y ORDER BY x, y\")\n",
    "with Session(engine) as session:\n",
    "    result = session.execute(stmt, {\"y\": 6})\n",
    "    for row in result:\n",
    "        print(f\"x: {row.x}  y: {row.y}\")"
   ]
  },
  {
   "cell_type": "code",
   "execution_count": 17,
   "metadata": {},
   "outputs": [
    {
     "name": "stdout",
     "output_type": "stream",
     "text": [
      "2023-08-06 13:43:47,766 INFO sqlalchemy.engine.Engine BEGIN (implicit)\n",
      "2023-08-06 13:43:47,768 INFO sqlalchemy.engine.Engine UPDATE some_table SET y=? WHERE x=?\n",
      "2023-08-06 13:43:47,769 INFO sqlalchemy.engine.Engine [generated in 0.00144s] [(11, 9), (15, 13)]\n",
      "2023-08-06 13:43:47,771 INFO sqlalchemy.engine.Engine COMMIT\n"
     ]
    }
   ],
   "source": [
    "with Session(engine) as session:\n",
    "    result = session.execute(\n",
    "        text(\"UPDATE some_table SET y=:y WHERE x=:x\"),\n",
    "        [{\"x\": 9, \"y\": 11}, {\"x\": 13, \"y\": 15}],\n",
    "    )\n",
    "    session.commit()"
   ]
  },
  {
   "cell_type": "code",
   "execution_count": 21,
   "metadata": {},
   "outputs": [
    {
     "name": "stdout",
     "output_type": "stream",
     "text": [
      "2023-08-06 13:53:43,872 INFO sqlalchemy.engine.Engine BEGIN (implicit)\n",
      "2023-08-06 13:53:43,874 INFO sqlalchemy.engine.Engine PRAGMA main.table_xinfo(\"some_table\")\n",
      "2023-08-06 13:53:43,876 INFO sqlalchemy.engine.Engine [raw sql] ()\n",
      "2023-08-06 13:53:43,878 INFO sqlalchemy.engine.Engine SELECT sql FROM  (SELECT * FROM sqlite_master UNION ALL   SELECT * FROM sqlite_temp_master) WHERE name = ? AND type in ('table', 'view')\n",
      "2023-08-06 13:53:43,880 INFO sqlalchemy.engine.Engine [raw sql] ('some_table',)\n",
      "2023-08-06 13:53:43,882 INFO sqlalchemy.engine.Engine PRAGMA main.foreign_key_list(\"some_table\")\n",
      "2023-08-06 13:53:43,883 INFO sqlalchemy.engine.Engine [raw sql] ()\n",
      "2023-08-06 13:53:43,884 INFO sqlalchemy.engine.Engine PRAGMA temp.foreign_key_list(\"some_table\")\n",
      "2023-08-06 13:53:43,885 INFO sqlalchemy.engine.Engine [raw sql] ()\n",
      "2023-08-06 13:53:43,886 INFO sqlalchemy.engine.Engine SELECT sql FROM  (SELECT * FROM sqlite_master UNION ALL   SELECT * FROM sqlite_temp_master) WHERE name = ? AND type in ('table', 'view')\n",
      "2023-08-06 13:53:43,887 INFO sqlalchemy.engine.Engine [raw sql] ('some_table',)\n",
      "2023-08-06 13:53:43,889 INFO sqlalchemy.engine.Engine PRAGMA main.index_list(\"some_table\")\n",
      "2023-08-06 13:53:43,890 INFO sqlalchemy.engine.Engine [raw sql] ()\n",
      "2023-08-06 13:53:43,892 INFO sqlalchemy.engine.Engine PRAGMA temp.index_list(\"some_table\")\n",
      "2023-08-06 13:53:43,892 INFO sqlalchemy.engine.Engine [raw sql] ()\n",
      "2023-08-06 13:53:43,894 INFO sqlalchemy.engine.Engine PRAGMA main.table_info(\"some_table\")\n",
      "2023-08-06 13:53:43,894 INFO sqlalchemy.engine.Engine [raw sql] ()\n",
      "2023-08-06 13:53:43,896 INFO sqlalchemy.engine.Engine PRAGMA main.index_list(\"some_table\")\n",
      "2023-08-06 13:53:43,897 INFO sqlalchemy.engine.Engine [raw sql] ()\n",
      "2023-08-06 13:53:43,897 INFO sqlalchemy.engine.Engine PRAGMA temp.index_list(\"some_table\")\n",
      "2023-08-06 13:53:43,897 INFO sqlalchemy.engine.Engine [raw sql] ()\n",
      "2023-08-06 13:53:43,899 INFO sqlalchemy.engine.Engine PRAGMA main.table_info(\"some_table\")\n",
      "2023-08-06 13:53:43,900 INFO sqlalchemy.engine.Engine [raw sql] ()\n",
      "2023-08-06 13:53:43,901 INFO sqlalchemy.engine.Engine SELECT sql FROM  (SELECT * FROM sqlite_master UNION ALL   SELECT * FROM sqlite_temp_master) WHERE name = ? AND type in ('table', 'view')\n",
      "2023-08-06 13:53:43,902 INFO sqlalchemy.engine.Engine [raw sql] ('some_table',)\n",
      "2023-08-06 13:53:43,904 INFO sqlalchemy.engine.Engine ROLLBACK\n"
     ]
    }
   ],
   "source": [
    "from sqlalchemy import Table, Column, Integer, String\n",
    "from sqlalchemy import MetaData\n",
    "metadata_obj = MetaData()\n",
    "some_table = Table(\"some_table\", metadata_obj, autoload_with=engine)"
   ]
  },
  {
   "cell_type": "code",
   "execution_count": 22,
   "metadata": {},
   "outputs": [
    {
     "data": {
      "text/plain": [
       "Table('some_table', MetaData(), Column('x', INTEGER(), table=<some_table>), Column('y', INTEGER(), table=<some_table>), schema=None)"
      ]
     },
     "execution_count": 22,
     "metadata": {},
     "output_type": "execute_result"
    }
   ],
   "source": [
    "some_table"
   ]
  }
 ],
 "metadata": {
  "kernelspec": {
   "display_name": "flaskwebapp",
   "language": "python",
   "name": "python3"
  },
  "language_info": {
   "codemirror_mode": {
    "name": "ipython",
    "version": 3
   },
   "file_extension": ".py",
   "mimetype": "text/x-python",
   "name": "python",
   "nbconvert_exporter": "python",
   "pygments_lexer": "ipython3",
   "version": "3.11.3"
  },
  "orig_nbformat": 4
 },
 "nbformat": 4,
 "nbformat_minor": 2
}
